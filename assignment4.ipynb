{
 "cells": [
  {
   "cell_type": "code",
   "execution_count": 1,
   "id": "f32b6a0d-bba0-4490-a1b8-a9b6becb61aa",
   "metadata": {
    "tags": []
   },
   "outputs": [],
   "source": [
    "#que 1"
   ]
  },
  {
   "cell_type": "code",
   "execution_count": 2,
   "id": "b5ce5ef3-8e34-4648-b550-397fd6253479",
   "metadata": {
    "tags": []
   },
   "outputs": [
    {
     "name": "stdout",
     "output_type": "stream",
     "text": [
      "1\n",
      "2\n",
      "3\n",
      "4\n",
      "5\n"
     ]
    }
   ],
   "source": [
    "num = 1\n",
    "while num <= 5:\n",
    "    print(num)\n",
    "    num += 1"
   ]
  },
  {
   "cell_type": "code",
   "execution_count": 3,
   "id": "975691af-c07e-4608-9e8e-feb530bd8ee0",
   "metadata": {
    "tags": []
   },
   "outputs": [],
   "source": [
    "#que 2"
   ]
  },
  {
   "cell_type": "code",
   "execution_count": 4,
   "id": "abc7645d-03d8-4ecc-b931-f14aff5d4b62",
   "metadata": {
    "tags": []
   },
   "outputs": [
    {
     "name": "stdout",
     "output_type": "stream",
     "text": [
      "the sum of number from 1 to 10 is: 1\n",
      "the sum of number from 1 to 10 is: 3\n",
      "the sum of number from 1 to 10 is: 6\n",
      "the sum of number from 1 to 10 is: 10\n",
      "the sum of number from 1 to 10 is: 15\n",
      "the sum of number from 1 to 10 is: 21\n",
      "the sum of number from 1 to 10 is: 28\n",
      "the sum of number from 1 to 10 is: 36\n",
      "the sum of number from 1 to 10 is: 45\n",
      "the sum of number from 1 to 10 is: 55\n"
     ]
    }
   ],
   "source": [
    "total = 0\n",
    "num = 1\n",
    "while num <= 10:\n",
    "    total +=num\n",
    "    num +=1\n",
    "    \n",
    "    print(\"the sum of number from 1 to 10 is:\",total)"
   ]
  },
  {
   "cell_type": "code",
   "execution_count": 11,
   "id": "31b0e0c9-3de6-41be-8e89-a2af5a06ccd2",
   "metadata": {
    "tags": []
   },
   "outputs": [
    {
     "ename": "NameError",
     "evalue": "name 'n' is not defined",
     "output_type": "error",
     "traceback": [
      "\u001b[1;31m---------------------------------------------------------------------------\u001b[0m",
      "\u001b[1;31mNameError\u001b[0m                                 Traceback (most recent call last)",
      "Cell \u001b[1;32mIn[11], line 3\u001b[0m\n\u001b[0;32m      1\u001b[0m \u001b[38;5;28;01mdef\u001b[39;00m \u001b[38;5;21mfactorial\u001b[39m(n):\n\u001b[0;32m      2\u001b[0m     result \u001b[38;5;241m=\u001b[39m \u001b[38;5;241m1\u001b[39m\n\u001b[1;32m----> 3\u001b[0m \u001b[38;5;28;01mfor\u001b[39;00m i \u001b[38;5;129;01min\u001b[39;00m \u001b[38;5;28mrange\u001b[39m(\u001b[38;5;241m1\u001b[39m, n\u001b[38;5;241m+\u001b[39m\u001b[38;5;241m1\u001b[39m):\n\u001b[0;32m      4\u001b[0m     result \u001b[38;5;241m*\u001b[39m\u001b[38;5;241m=\u001b[39m i\n\u001b[0;32m      5\u001b[0m \u001b[38;5;28;01mreturn\u001b[39;00m result \n",
      "\u001b[1;31mNameError\u001b[0m: name 'n' is not defined"
     ]
    }
   ],
   "source": [
    "def factorial(n):\n",
    "    result = 1\n",
    "for i in range(1, n+1):\n",
    "    result *= i\n",
    "return result \n",
    "\n",
    "\n",
    "number = int(input(\"enter a number:\"))\n",
    "print(\"factorial of\",number,\"s\",factorial(number))\n",
    "             "
   ]
  },
  {
   "cell_type": "code",
   "execution_count": 10,
   "id": "11676188-2359-4a9d-b8ed-07c64f6d5fad",
   "metadata": {
    "tags": []
   },
   "outputs": [],
   "source": [
    "#que 4\n",
    "def count_vowels(string):\n",
    "    vowels = \"aeiouAEIOU\"\n",
    "    count = 0\n",
    "    for char in string:\n",
    "        if char in vowels:\n",
    "            count += 1\n",
    "    return count        "
   ]
  },
  {
   "cell_type": "code",
   "execution_count": 11,
   "id": "1326c207-926d-4e9f-afc6-2be7ea0a422a",
   "metadata": {
    "tags": []
   },
   "outputs": [
    {
     "data": {
      "text/plain": [
       "7"
      ]
     },
     "execution_count": 11,
     "metadata": {},
     "output_type": "execute_result"
    }
   ],
   "source": [
    "count_vowels(\"hello, how are you?\")"
   ]
  },
  {
   "cell_type": "code",
   "execution_count": 9,
   "id": "6f433924-e4a8-4acb-b106-dedb284bd162",
   "metadata": {
    "tags": []
   },
   "outputs": [
    {
     "name": "stdout",
     "output_type": "stream",
     "text": [
      "*\n",
      "**\n",
      "***\n",
      "****\n",
      "*****\n"
     ]
    }
   ],
   "source": [
    "#QUE 5\n",
    "for i in range(5):\n",
    "    for j in range(i + 1):\n",
    "        print(\"*\",end = \"\")\n",
    "    print()\n",
    "            "
   ]
  },
  {
   "cell_type": "code",
   "execution_count": 12,
   "id": "26cfdcad-7e64-44ec-b768-47e0039732ea",
   "metadata": {
    "tags": []
   },
   "outputs": [
    {
     "name": "stdout",
     "output_type": "stream",
     "text": [
      "1 * 10 = 10\t2 * 10 = 20\t3 * 10 = 30\t4 * 10 = 40\t5 * 10 = 50\t6 * 10 = 60\t7 * 10 = 70\t8 * 10 = 80\t9 * 10 = 90\t10 * 10 = 100\t"
     ]
    }
   ],
   "source": [
    "#que 6\n",
    "table_size = 10\n",
    "for i in range(1, table_size + 1):\n",
    "    for j in range(1, table_size + 1):\n",
    "       product = i * j\n",
    "    print(f\"{i} * {j} = {product}\\t\",end=\"\")\n"
   ]
  },
  {
   "cell_type": "code",
   "execution_count": null,
   "id": "9cf2d1ce-b6ed-469f-a5da-38ce00b0834b",
   "metadata": {},
   "outputs": [],
   "source": []
  }
 ],
 "metadata": {
  "kernelspec": {
   "display_name": "Python 3 (ipykernel)",
   "language": "python",
   "name": "python3"
  },
  "language_info": {
   "codemirror_mode": {
    "name": "ipython",
    "version": 3
   },
   "file_extension": ".py",
   "mimetype": "text/x-python",
   "name": "python",
   "nbconvert_exporter": "python",
   "pygments_lexer": "ipython3",
   "version": "3.11.5"
  }
 },
 "nbformat": 4,
 "nbformat_minor": 5
}
